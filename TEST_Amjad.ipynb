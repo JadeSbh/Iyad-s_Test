{
 "cells": [
  {
   "cell_type": "markdown",
   "metadata": {},
   "source": [
    "# <font color='yellow' size= 30> **$$Bois-de-Bolegn$$** </font>"
   ]
  },
  {
   "cell_type": "markdown",
   "metadata": {},
   "source": [
    "## Tests d'admission pour le programme AEC Spécialiste en mégadonnées et Intelligence d’affaires"
   ]
  },
  {
   "cell_type": "markdown",
   "metadata": {},
   "source": [
    "### Nom :&nbsp;&nbsp;&nbsp;&nbsp;&nbsp;&nbsp;&nbsp;&nbsp;&nbsp;&nbsp;&nbsp;&nbsp;&nbsp;&nbsp;&nbsp;&nbsp;&nbsp;&nbsp;&nbsp;&nbsp;&nbsp;&nbsp;&nbsp;&nbsp;&nbsp;&nbsp;&nbsp;&nbsp;Amjad Sabbagh\n",
    "### Nombre d'demande :&nbsp;&nbsp;&nbsp;7676879"
   ]
  },
  {
   "cell_type": "markdown",
   "metadata": {},
   "source": [
    "### 1. Question (1) : 2 nombres"
   ]
  },
  {
   "cell_type": "markdown",
   "metadata": {},
   "source": [
    "####  Ma solution :  \n",
    "\n",
    "Variables A et B en Numerique  \n",
    "\n",
    "Variable C1, C2 en Boolèen\n",
    "\n",
    "Dèbut \n",
    "\n",
    "C1 <-- A > B  \n",
    "\n",
    "C2 <-- B > A\n",
    "\n",
    "Ecrire \"Entrez le 1er Nombre\"  \n",
    "\n",
    "Lire A  \n",
    "\n",
    "Ecrire \"Entrez le 2em Nombre\"  \n",
    "\n",
    "Lire B  \n",
    "\n",
    "Si C1 Alors  \n",
    "\n",
    "&nbsp;&nbsp;Ecrire \" A est supreiere à B !\"  \n",
    " \n",
    "Sinonsi C2 Alors  \n",
    "\n",
    "&nbsp;&nbsp;Ecrire \" B est supreiere à A !\"  \n",
    " \n",
    "sinon  \n",
    "\n",
    "&nbsp;&nbsp;Ecrire \" A ègale à B ! \"  \n",
    " \n",
    "FinSi  \n",
    "\n",
    "Fin\n"
   ]
  },
  {
   "cell_type": "code",
   "execution_count": 3,
   "metadata": {},
   "outputs": [
    {
     "name": "stdout",
     "output_type": "stream",
     "text": [
      "Entrez le 1er Nombre   10\n",
      "Entrez le 2em Nombre   5\n",
      "Resultat est :  10 est supreiere à 5\n"
     ]
    }
   ],
   "source": [
    "\n",
    "A = int(input(\"Entrez le 1er Nombre   \"))\n",
    "B = int(input(\"Entrez le 2em Nombre   \"))\n",
    "if A > B :\n",
    "    print (\"Resultat est :  \"+ str(A) +\" est supreiere à \" + str(B))\n",
    "elif A < B :\n",
    "    print (\"Resultat est :  \"+ str(B) +\" est supreiere à \" + str(A))\n",
    "else :\n",
    "    print(\"Resultat est :  \"+ str(A) + \"ègale à \"+str(B));"
   ]
  },
  {
   "cell_type": "markdown",
   "metadata": {},
   "source": [
    "###  2. Question (2) :  Trois Nombres"
   ]
  },
  {
   "cell_type": "markdown",
   "metadata": {},
   "source": [
    "Variables A, B, C en Numerique  \n",
    "\n",
    "Variables C1, C2, C3 en Booleean  \n",
    "\n",
    "Debut  \n",
    "\n",
    "Ecrire \"Entrez trois nombres\"  \n",
    "\n",
    "Lire A, B, C  \n",
    "\n",
    "C1 <--&nbsp;&nbsp; A > B&nbsp;&nbsp;  Et &nbsp;&nbsp; A > C  \n",
    "\n",
    "C2 <--&nbsp;&nbsp; B > A&nbsp;&nbsp;  Et &nbsp;&nbsp; B > C  \n",
    "\n",
    "C3 <--&nbsp;&nbsp; C > A&nbsp;&nbsp;  Et&nbsp;&nbsp;  C > B  \n",
    "\n",
    "Si C1 ALORS  \n",
    "\n",
    "&nbsp;&nbsp;Ecrire \" La resultat est :  A est supreiere à B et C \"  \n",
    "\n",
    "Sinonsi C2 Alors  \n",
    "\n",
    "&nbsp;&nbsp;Ecrire \" La resultat est :  B est supreiere à A et C \" \n",
    "\n",
    "SinonSi C3 Alors  \n",
    "\n",
    "&nbsp;&nbsp;Ecrire \" La resultat est :  C est supreiere à A et B \"  \n",
    "\n",
    "SiNon  \n",
    "\n",
    "&nbsp;&nbsp;Ecrire \" Les nombres ne sont pas differentes \"\n",
    "\n",
    "FinSi  \n",
    "Fin\n"
   ]
  },
  {
   "cell_type": "code",
   "execution_count": 26,
   "metadata": {},
   "outputs": [
    {
     "name": "stdout",
     "output_type": "stream",
     "text": [
      "Entrez le 1er Nombre :   9\n",
      "Entrez le 2em Nombre :   8\n",
      "Entrez le 3em Nombre :   7\n",
      "La resultat est : 9 est supreiere à 8 et 7\n"
     ]
    }
   ],
   "source": [
    "A = int(input(\"Entrez le 1er Nombre :   \"))\n",
    "B = int(input(\"Entrez le 2em Nombre :   \"))\n",
    "C = int(input(\"Entrez le 3em Nombre :   \"))\n",
    "if A > B and A > C :\n",
    "     print(\"La resultat est : \"+ str(A) +\" est supreiere à \"+ str(B) + \" et \"+str(C))\n",
    "elif B > A and B > C :\n",
    "     print(\"La resultat est : \"+ str(B) +\" est supreiere à \"+ str(A) + \" et \"+str(C))\n",
    "elif C > A and C > B :\n",
    "     print(\"La resultat est : \"+ str(C) +\" est supreiere à \"+ str(B) + \" et \"+str(A))\n",
    "else :\n",
    "    print(\"Les nombres ne sont pas differentes\")"
   ]
  },
  {
   "cell_type": "markdown",
   "metadata": {},
   "source": [
    "###  3. Question (3) : Cent Nombres, au brief 10 nombres, mais pouvez vous changer la valeure de N dans la programme."
   ]
  },
  {
   "cell_type": "markdown",
   "metadata": {},
   "source": [
    "Variable nom, Sum, N, i, Max, Min, M en numerique  \n",
    "\n",
    "Debut  \n",
    "\n",
    "Sum <-- 0  \n",
    "\n",
    "N <-- 100  \n",
    "\n",
    "Ecrire(\"Entrez une nombre  !\")  \n",
    "\n",
    "Lire nom  \n",
    "\n",
    "Max <-- nom   \n",
    "\n",
    "Min <-- nom \n",
    "\n",
    "pour i <-- 1 à N  \n",
    "\n",
    "&nbsp;&nbsp;Ecrire(\"Entrez une nombre  !\")  \n",
    "\n",
    "&nbsp;&nbsp;Lire nom  \n",
    "\n",
    "&nbsp;&nbsp;Sum <-- nom + Sum\n",
    "\n",
    "&nbsp;&nbsp;Si nom > Max Alors  \n",
    "\n",
    "&nbsp;&nbsp;&nbsp;&nbsp;Max <-- nom  \n",
    "\n",
    "&nbsp;&nbsp;SiNonSi nom < Min Alors  \n",
    "\n",
    "&nbsp;&nbsp;&nbsp;&nbsp;Min <-- nom  \n",
    "\n",
    "&nbsp;&nbsp;FinSi  \n",
    "\n",
    "Suivent i  \n",
    "\n",
    "M <-- Sum / N   \n",
    "\n",
    "Ecrire \" La Moyenne $\\sum\\limits _{i=1} ^{n} \\frac {x_{i}}{n}$= \", M  \n",
    "\n",
    "Fin"
   ]
  },
  {
   "cell_type": "code",
   "execution_count": 11,
   "metadata": {},
   "outputs": [
    {
     "name": "stdout",
     "output_type": "stream",
     "text": [
      "Entrez un Nombre, numero 1:  0\n",
      "Entrez un Nombre, numéro 1:  2\n",
      "Entrez un Nombre, numéro 2:  3\n",
      "Entrez un Nombre, numéro 3:  5\n",
      "Entrez un Nombre, numéro 4:  7\n",
      "Entrez un Nombre, numéro 5:  9\n",
      "Entrez un Nombre, numéro 6:  4\n",
      "Entrez un Nombre, numéro 7:  10\n",
      "Entrez un Nombre, numéro 8:  12\n",
      "Entrez un Nombre, numéro 9:  11\n",
      "Le plus grand nombre est :  12\n",
      "le plus petit nombre est :  0\n",
      "La moyenne est 6.3\n"
     ]
    }
   ],
   "source": [
    "Sum = 0\n",
    "i = 1\n",
    "N = 10 \n",
    "num = int(input (\"Entrez un Nombre, numero 1:  \"))\n",
    "Max = num\n",
    "Min = num\n",
    "while i < N :\n",
    "    num = int(input (\"Entrez un Nombre, numéro \"+str(i)+ \":  \"))\n",
    "    Sum = Sum + num\n",
    "    if num > Max :\n",
    "        Max = num \n",
    "    if num < Min :\n",
    "        Min = num  \n",
    "    i = i + 1\n",
    "M = Sum/N\n",
    "print(\"Le plus grand nombre est :  \"+ str(Max))\n",
    "print(\"le plus petit nombre est :  \"+ str(Min))\n",
    "print(\"La moyenne est \"+str(M))"
   ]
  },
  {
   "cell_type": "markdown",
   "metadata": {},
   "source": [
    "###  4. Question (4): 2, 5, 26,....."
   ]
  },
  {
   "cell_type": "markdown",
   "metadata": {},
   "source": [
    "$x_{1} = 2$  \n",
    "\n",
    "$x_{2} = 5 =  1 + 2^2 = 1 + x_{1}^2$  \n",
    "\n",
    "$x_{3} = 26 = 1 + 5^2 = 1 + x_{2}^2$  \n",
    "\n",
    "Alors  \n",
    "\n",
    "$x_{4} = 677 = 1 + 26^2 = 1+ x_{3}^2$  \n",
    "\n",
    ".  \n",
    "\n",
    ".  \n",
    "\n",
    ".  \n",
    "\n",
    "$x_{i+1} = 1 + x_{i}^2$\n"
   ]
  },
  {
   "cell_type": "markdown",
   "metadata": {},
   "source": [
    "# <font color='yellow' size= 30> **$$Merci Beaucoup$$** </font>"
   ]
  }
 ],
 "metadata": {
  "celltoolbar": "Edit Metadata",
  "kernelspec": {
   "display_name": "Python 3",
   "language": "python",
   "name": "python3"
  },
  "language_info": {
   "codemirror_mode": {
    "name": "ipython",
    "version": 3
   },
   "file_extension": ".py",
   "mimetype": "text/x-python",
   "name": "python",
   "nbconvert_exporter": "python",
   "pygments_lexer": "ipython3",
   "version": "3.9.4"
  }
 },
 "nbformat": 4,
 "nbformat_minor": 1
}
